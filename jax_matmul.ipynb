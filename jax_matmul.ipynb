{
 "cells": [
  {
   "cell_type": "code",
   "execution_count": 1,
   "id": "0eac0be7-5bf7-4675-bded-a61500045885",
   "metadata": {},
   "outputs": [
    {
     "name": "stderr",
     "output_type": "stream",
     "text": [
      "2023-11-28 13:40:14.428794: E external/xla/xla/stream_executor/plugin_registry.cc:90] Invalid plugin kind specified: DNN\n"
     ]
    },
    {
     "name": "stdout",
     "output_type": "stream",
     "text": [
      "[rocm(id=0), rocm(id=1), rocm(id=2), rocm(id=3), rocm(id=4), rocm(id=5)]\n",
      "[rocm(id=0), rocm(id=1), rocm(id=2), rocm(id=3), rocm(id=4), rocm(id=5)]\n"
     ]
    },
    {
     "data": {
      "text/plain": [
       "((6, 32, 4096, 4096), (6, 1, 1, 4096, 4096))"
      ]
     },
     "execution_count": 1,
     "metadata": {},
     "output_type": "execute_result"
    }
   ],
   "source": [
    "# a matmul in jax using pmap across GPUs\n",
    "import jax.numpy as jnp\n",
    "import jax\n",
    "import time\n",
    "import numpy as np\n",
    "\n",
    "print(jax.devices())\n",
    "DEVICES = len(jax.devices())\n",
    "BS = 32\n",
    "N = 4096\n",
    "d = np.float16\n",
    "nA = np.zeros((DEVICES, BS, N, N), d)\n",
    "nB = np.zeros((1, 1, N, N), d)\n",
    "print(jax.devices())\n",
    "A = jax.device_put_sharded([nA[i] for i in range(DEVICES)], jax.devices())\n",
    "B = jax.device_put_sharded([nB for i in range(DEVICES)], jax.devices())\n",
    "A.shape, B.shape"
   ]
  },
  {
   "cell_type": "code",
   "execution_count": 2,
   "id": "6dba8125-eb85-4c51-86a4-509edba8d669",
   "metadata": {},
   "outputs": [
    {
     "name": "stdout",
     "output_type": "stream",
     "text": [
      "TOPS 26.388279066624\n"
     ]
    }
   ],
   "source": [
    "OPS = DEVICES*BS*N*N*N*2\n",
    "print(f\"TOPS {OPS*1e-12}\")\n",
    "def matmul(A,B): return jnp.matmul(A,B,preferred_element_type=jnp.float32)\n",
    "#def matmul(A,B): return jax.nn.relu(jnp.matmul(A,B,preferred_element_type=jnp.float32))\n",
    "lowered = jax.pmap(matmul)"
   ]
  },
  {
   "cell_type": "code",
   "execution_count": 3,
   "id": "06f32db0-1d84-4f0e-a128-31e7bf982538",
   "metadata": {},
   "outputs": [
    {
     "name": "stdout",
     "output_type": "stream",
     "text": [
      "time 1654.82 ms, TFLOPS  15.95, MFU 2.16% out shape (6, 1, 32, 4096, 4096) dtype float32\n",
      "time 37.22 ms, TFLOPS 709.07, MFU 96.08% out shape (6, 1, 32, 4096, 4096) dtype float32\n",
      "time 36.30 ms, TFLOPS 727.03, MFU 98.51% out shape (6, 1, 32, 4096, 4096) dtype float32\n",
      "time 35.58 ms, TFLOPS 741.60, MFU 100.49% out shape (6, 1, 32, 4096, 4096) dtype float32\n",
      "time 34.87 ms, TFLOPS 756.70, MFU 102.53% out shape (6, 1, 32, 4096, 4096) dtype float32\n",
      "time 34.37 ms, TFLOPS 767.70, MFU 104.02% out shape (6, 1, 32, 4096, 4096) dtype float32\n",
      "time 34.05 ms, TFLOPS 775.05, MFU 105.02% out shape (6, 1, 32, 4096, 4096) dtype float32\n",
      "time 34.97 ms, TFLOPS 754.66, MFU 102.26% out shape (6, 1, 32, 4096, 4096) dtype float32\n",
      "time 35.85 ms, TFLOPS 735.97, MFU 99.73% out shape (6, 1, 32, 4096, 4096) dtype float32\n",
      "time 36.08 ms, TFLOPS 731.35, MFU 99.10% out shape (6, 1, 32, 4096, 4096) dtype float32\n"
     ]
    }
   ],
   "source": [
    "MAX_TFLOPS = 123*DEVICES  # Peak FP16 Tensor TFLOPS with FP32 Acc (7900XTX)\n",
    "for i in range(10):\n",
    "    st = time.perf_counter()\n",
    "    C = lowered(A,B).block_until_ready()\n",
    "    et = time.perf_counter()-st\n",
    "    tflops = (OPS*1e-12)/et\n",
    "    print(f\"time {et*1e3:.2f} ms, TFLOPS {tflops:6.2f}, MFU {(tflops/MAX_TFLOPS)*100:4.2f}% out shape {C.shape} dtype {C.dtype}\")"
   ]
  },
  {
   "cell_type": "code",
   "execution_count": null,
   "id": "d24e933c-e7ab-4452-af8e-1f8b9b834f5a",
   "metadata": {},
   "outputs": [],
   "source": []
  }
 ],
 "metadata": {
  "kernelspec": {
   "display_name": "Python 3 (ipykernel)",
   "language": "python",
   "name": "python3"
  },
  "language_info": {
   "codemirror_mode": {
    "name": "ipython",
    "version": 3
   },
   "file_extension": ".py",
   "mimetype": "text/x-python",
   "name": "python",
   "nbconvert_exporter": "python",
   "pygments_lexer": "ipython3",
   "version": "3.10.12"
  }
 },
 "nbformat": 4,
 "nbformat_minor": 5
}
